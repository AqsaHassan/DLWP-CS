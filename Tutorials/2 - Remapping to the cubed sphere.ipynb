{
 "cells": [
  {
   "cell_type": "markdown",
   "metadata": {},
   "source": [
    "## Remapping training data to the cubed sphere\n",
    "\n",
    "The novel addition in DLWP-CS is the ability to train convolutional neural networks on data mapped to the cubed sphere. The re-mapping is performed offline from the model training/inference. \n",
    "\n",
    "#### Required packages\n",
    "\n",
    "We use the TempestRemap library for cubed sphere remapping which is available as a pre-compiled conda package. Let's start by installing it."
   ]
  },
  {
   "cell_type": "code",
   "execution_count": null,
   "metadata": {},
   "outputs": [],
   "source": [
    "%conda install -c conda-forge tempest-remap"
   ]
  },
  {
   "cell_type": "markdown",
   "metadata": {},
   "source": [
    "Let's use the DLWP CubeSphereRemap class on the data we processed earlier."
   ]
  },
  {
   "cell_type": "code",
   "execution_count": null,
   "metadata": {},
   "outputs": [],
   "source": [
    "from DLWP.remap import CubeSphereRemap\n",
    "\n",
    "data_directory = '/home/disk/wave2/jweyn/Data/ERA5'\n",
    "processed_file = '%s/tutorial_z500_t2m.nc' % data_directory\n",
    "remapped_file = '%s/tutorial_z500_t2m_CS.nc' % data_directory\n",
    "\n",
    "csr = CubeSphereRemap()"
   ]
  },
  {
   "cell_type": "markdown",
   "metadata": {},
   "source": [
    "Generate the offline maps. Since we used 2 degree data, we have 91 latitude points and 180 longitude points. We are mapping to a cubed sphere with 48 points on the side of each cube face. Since data from CDS comes with monotonically decreasing latitudes, we specify the `inverse_lat` option. In the future, I will add capability to read the coordinates from a netCDF file."
   ]
  },
  {
   "cell_type": "code",
   "execution_count": null,
   "metadata": {},
   "outputs": [],
   "source": [
    "csr.generate_offline_maps(lat=91, lon=180, res=48, inverse_lat=True)"
   ]
  },
  {
   "cell_type": "markdown",
   "metadata": {},
   "source": [
    "Apply the forward map, saving to a temporary file. We specify to operate on the variable `predictors`, which is the only variable in the processed data. If this crashes, read the next cell."
   ]
  },
  {
   "cell_type": "code",
   "execution_count": null,
   "metadata": {},
   "outputs": [],
   "source": [
    "csr.remap(predictor_file, '%s/temp.nc' % data_directory, '--var', 'predictors')"
   ]
  },
  {
   "cell_type": "markdown",
   "metadata": {},
   "source": [
    "By default, TempestRemap has a 1-dimensional spatial coordinate. We convert the file to 3-dimensional faces (face, height, width). A few other points here:  \n",
    "- TempestRemap is very finicky about metadata in netCDF files, sometimes failing with segmentation faults for no apparent reason. I've found that the most common crash is because it does not like the string coordinate values in the `'varlev'` coordinate. If it crashes, try deleting the coordinate values using xarray and saving the processed data to a new file. Then, the parameter `coord_file` in this function can reinstate the coordinate to the final remapped file. Even if TempestRemap does not crash, it will probably delete the string coordinates, and sometimes the sample time coordinate as well, so it's a good idea to use this feature.  \n",
    "- We also take advantage of the `chunking` parameter to save data with ideal chunking when using the file for training and evaluating models."
   ]
  },
  {
   "cell_type": "code",
   "execution_count": null,
   "metadata": {},
   "outputs": [],
   "source": [
    "csr.convert_to_faces('%s/temp.nc' % data_directory, \n",
    "                     remap_file,\n",
    "                     coord_file=processed_file,\n",
    "                     chunking={'sample': 1, 'varlev': 1})"
   ]
  },
  {
   "cell_type": "code",
   "execution_count": null,
   "metadata": {},
   "outputs": [],
   "source": [
    "import os\n",
    "os.remove('%s/temp.nc' % data_directory)"
   ]
  }
 ],
 "metadata": {
  "kernelspec": {
   "display_name": "Python 3",
   "language": "python",
   "name": "python3"
  },
  "language_info": {
   "codemirror_mode": {
    "name": "ipython",
    "version": 3
   },
   "file_extension": ".py",
   "mimetype": "text/x-python",
   "name": "python",
   "nbconvert_exporter": "python",
   "pygments_lexer": "ipython3",
   "version": "3.7.4"
  }
 },
 "nbformat": 4,
 "nbformat_minor": 2
}
